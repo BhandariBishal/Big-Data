{
 "cells": [
  {
   "cell_type": "code",
   "execution_count": 20,
   "metadata": {},
   "outputs": [
    {
     "name": "stdout",
     "output_type": "stream",
     "text": [
      "Word     Frequency\n",
      "........................\n",
      "the        12\n",
      "in        11\n",
      "and        11\n",
      "Miami        8\n",
      "to        8\n",
      "is        6\n",
      "of        6\n",
      "a        5\n",
      "as        5\n",
      "with        5\n"
     ]
    }
   ],
   "source": [
    "txtFile = open('words2.txt', 'r')\n",
    "\n",
    "counts = dict()\n",
    "for line in txtFile:\n",
    "    words = line.split()\n",
    "    for word in words:\n",
    "        counts[word] = counts.get(word,0) + 1\n",
    "        \n",
    "sorted_counts = sorted(counts.items(), key=lambda item: item[1], reverse=True)\n",
    "\n",
    "print(\"Word\",\"   \",\"Frequency\")    \n",
    "print('........................')\n",
    "for i in range(10):\n",
    "    word, frequency = sorted_counts[i]\n",
    "    print(word, \"      \", frequency)\n",
    "\n",
    "\n",
    "        "
   ]
  },
  {
   "cell_type": "code",
   "execution_count": null,
   "metadata": {},
   "outputs": [],
   "source": []
  }
 ],
 "metadata": {
  "kernelspec": {
   "display_name": "Python 3",
   "language": "python",
   "name": "python3"
  },
  "language_info": {
   "codemirror_mode": {
    "name": "ipython",
    "version": 3
   },
   "file_extension": ".py",
   "mimetype": "text/x-python",
   "name": "python",
   "nbconvert_exporter": "python",
   "pygments_lexer": "ipython3",
   "version": "3.7.16"
  }
 },
 "nbformat": 4,
 "nbformat_minor": 4
}
